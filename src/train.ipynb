{
 "cells": [
  {
   "cell_type": "code",
   "execution_count": 38,
   "metadata": {},
   "outputs": [],
   "source": [
    "import pandas as pd\n",
    "import numpy as np\n",
    "from sklearn.model_selection import train_test_split\n",
    "import torch\n",
    "import torch.nn as nn\n",
    "import torchvision\n",
    "from torchvision import transforms, models\n",
    "from torch.utils.data import Dataset, DataLoader\n",
    "from PIL import Image\n",
    "from tqdm import tqdm\n",
    "from sklearn.metrics import accuracy_score, precision_score, recall_score, f1_score, roc_auc_score, confusion_matrix\n",
    "from sklearn.model_selection import KFold\n",
    "import seaborn as sns\n",
    "import matplotlib.pyplot as plt\n",
    "import numpy as np"
   ]
  },
  {
   "cell_type": "code",
   "execution_count": 54,
   "metadata": {},
   "outputs": [],
   "source": [
    "class BreastScanDataset(Dataset):\n",
    "    def __init__(self, data, root_dir, transform=None):\n",
    "        self.data = data\n",
    "        self.root_dir = root_dir\n",
    "        self.transform = transform\n",
    "        self.label_map = {i: label for i, label in enumerate(data.columns[3:])}  # Create a mapping from class index to label\n",
    "\n",
    "    def __len__(self):\n",
    "        return len(self.data)\n",
    "\n",
    "    def __getitem__(self, idx):\n",
    "        img_path = self.root_dir+self.data.iloc[idx, 2][1:]\n",
    "        image = Image.open(img_path).convert('RGB')  # Convert image to 'RGB'\n",
    "        label_vector = self.data.iloc[idx, 3:]\n",
    "        label_index = torch.argmax(torch.tensor(label_vector))  # Convert one-hot vector to class index\n",
    "\n",
    "        if self.transform:\n",
    "            image = self.transform(image)\n",
    "            \n",
    "        return image, label_index\n",
    "\n",
    "    def get_label(self, index):\n",
    "        return self.label_map[index]"
   ]
  },
  {
   "cell_type": "code",
   "execution_count": 55,
   "metadata": {},
   "outputs": [
    {
     "data": {
      "text/html": [
       "<div>\n",
       "<style scoped>\n",
       "    .dataframe tbody tr th:only-of-type {\n",
       "        vertical-align: middle;\n",
       "    }\n",
       "\n",
       "    .dataframe tbody tr th {\n",
       "        vertical-align: top;\n",
       "    }\n",
       "\n",
       "    .dataframe thead th {\n",
       "        text-align: right;\n",
       "    }\n",
       "</style>\n",
       "<table border=\"1\" class=\"dataframe\">\n",
       "  <thead>\n",
       "    <tr style=\"text-align: right;\">\n",
       "      <th></th>\n",
       "      <th>StudyUID</th>\n",
       "      <th>view</th>\n",
       "      <th>img_path</th>\n",
       "      <th>Normal</th>\n",
       "      <th>Actionable</th>\n",
       "      <th>Benign</th>\n",
       "      <th>Cancer</th>\n",
       "    </tr>\n",
       "  </thead>\n",
       "  <tbody>\n",
       "    <tr>\n",
       "      <th>0</th>\n",
       "      <td>DBT-S00163</td>\n",
       "      <td>rmlo</td>\n",
       "      <td>./images/train-v2/DBT-S00163_rmlo_16.png</td>\n",
       "      <td>0</td>\n",
       "      <td>0</td>\n",
       "      <td>1</td>\n",
       "      <td>0</td>\n",
       "    </tr>\n",
       "    <tr>\n",
       "      <th>1</th>\n",
       "      <td>DBT-S04378</td>\n",
       "      <td>lcc</td>\n",
       "      <td>./images/train-v2/DBT-S04378_lcc_31.png</td>\n",
       "      <td>0</td>\n",
       "      <td>1</td>\n",
       "      <td>0</td>\n",
       "      <td>0</td>\n",
       "    </tr>\n",
       "    <tr>\n",
       "      <th>2</th>\n",
       "      <td>DBT-S04378</td>\n",
       "      <td>lmlo</td>\n",
       "      <td>./images/train-v2/DBT-S04378_lmlo_33.png</td>\n",
       "      <td>0</td>\n",
       "      <td>1</td>\n",
       "      <td>0</td>\n",
       "      <td>0</td>\n",
       "    </tr>\n",
       "    <tr>\n",
       "      <th>3</th>\n",
       "      <td>DBT-S04378</td>\n",
       "      <td>rcc</td>\n",
       "      <td>./images/train-v2/DBT-S04378_rcc_29.png</td>\n",
       "      <td>0</td>\n",
       "      <td>1</td>\n",
       "      <td>0</td>\n",
       "      <td>0</td>\n",
       "    </tr>\n",
       "    <tr>\n",
       "      <th>4</th>\n",
       "      <td>DBT-S04378</td>\n",
       "      <td>rmlo</td>\n",
       "      <td>./images/train-v2/DBT-S04378_rmlo_31.png</td>\n",
       "      <td>0</td>\n",
       "      <td>1</td>\n",
       "      <td>0</td>\n",
       "      <td>0</td>\n",
       "    </tr>\n",
       "    <tr>\n",
       "      <th>...</th>\n",
       "      <td>...</td>\n",
       "      <td>...</td>\n",
       "      <td>...</td>\n",
       "      <td>...</td>\n",
       "      <td>...</td>\n",
       "      <td>...</td>\n",
       "      <td>...</td>\n",
       "    </tr>\n",
       "    <tr>\n",
       "      <th>892</th>\n",
       "      <td>DBT-S02614</td>\n",
       "      <td>rmlo</td>\n",
       "      <td>./images/train-v2/DBT-S02614_rmlo_29.png</td>\n",
       "      <td>0</td>\n",
       "      <td>1</td>\n",
       "      <td>0</td>\n",
       "      <td>0</td>\n",
       "    </tr>\n",
       "    <tr>\n",
       "      <th>893</th>\n",
       "      <td>DBT-S01815</td>\n",
       "      <td>lcc</td>\n",
       "      <td>./images/train-v2/DBT-S01815_lcc_29.png</td>\n",
       "      <td>1</td>\n",
       "      <td>0</td>\n",
       "      <td>0</td>\n",
       "      <td>0</td>\n",
       "    </tr>\n",
       "    <tr>\n",
       "      <th>894</th>\n",
       "      <td>DBT-S01815</td>\n",
       "      <td>lmlo</td>\n",
       "      <td>./images/train-v2/DBT-S01815_lmlo_31.png</td>\n",
       "      <td>1</td>\n",
       "      <td>0</td>\n",
       "      <td>0</td>\n",
       "      <td>0</td>\n",
       "    </tr>\n",
       "    <tr>\n",
       "      <th>895</th>\n",
       "      <td>DBT-S01815</td>\n",
       "      <td>rcc</td>\n",
       "      <td>./images/train-v2/DBT-S01815_rcc_26.png</td>\n",
       "      <td>1</td>\n",
       "      <td>0</td>\n",
       "      <td>0</td>\n",
       "      <td>0</td>\n",
       "    </tr>\n",
       "    <tr>\n",
       "      <th>896</th>\n",
       "      <td>DBT-S01815</td>\n",
       "      <td>rmlo</td>\n",
       "      <td>./images/train-v2/DBT-S01815_rmlo_28.png</td>\n",
       "      <td>1</td>\n",
       "      <td>0</td>\n",
       "      <td>0</td>\n",
       "      <td>0</td>\n",
       "    </tr>\n",
       "  </tbody>\n",
       "</table>\n",
       "<p>897 rows × 7 columns</p>\n",
       "</div>"
      ],
      "text/plain": [
       "       StudyUID  view                                  img_path  Normal  \\\n",
       "0    DBT-S00163  rmlo  ./images/train-v2/DBT-S00163_rmlo_16.png       0   \n",
       "1    DBT-S04378   lcc   ./images/train-v2/DBT-S04378_lcc_31.png       0   \n",
       "2    DBT-S04378  lmlo  ./images/train-v2/DBT-S04378_lmlo_33.png       0   \n",
       "3    DBT-S04378   rcc   ./images/train-v2/DBT-S04378_rcc_29.png       0   \n",
       "4    DBT-S04378  rmlo  ./images/train-v2/DBT-S04378_rmlo_31.png       0   \n",
       "..          ...   ...                                       ...     ...   \n",
       "892  DBT-S02614  rmlo  ./images/train-v2/DBT-S02614_rmlo_29.png       0   \n",
       "893  DBT-S01815   lcc   ./images/train-v2/DBT-S01815_lcc_29.png       1   \n",
       "894  DBT-S01815  lmlo  ./images/train-v2/DBT-S01815_lmlo_31.png       1   \n",
       "895  DBT-S01815   rcc   ./images/train-v2/DBT-S01815_rcc_26.png       1   \n",
       "896  DBT-S01815  rmlo  ./images/train-v2/DBT-S01815_rmlo_28.png       1   \n",
       "\n",
       "     Actionable  Benign  Cancer  \n",
       "0             0       1       0  \n",
       "1             1       0       0  \n",
       "2             1       0       0  \n",
       "3             1       0       0  \n",
       "4             1       0       0  \n",
       "..          ...     ...     ...  \n",
       "892           1       0       0  \n",
       "893           0       0       0  \n",
       "894           0       0       0  \n",
       "895           0       0       0  \n",
       "896           0       0       0  \n",
       "\n",
       "[897 rows x 7 columns]"
      ]
     },
     "execution_count": 55,
     "metadata": {},
     "output_type": "execute_result"
    }
   ],
   "source": [
    "dataset_path ='/data/md311/Breast_Cancer_Detection_DBT/dataset/' \n",
    "df = pd.read_csv(dataset_path+'data_csv/train-v2_table_list_slice.csv')\n",
    "df.drop(df.tail(16000).index, axis=0, inplace=True)\n",
    "df"
   ]
  },
  {
   "cell_type": "code",
   "execution_count": 56,
   "metadata": {},
   "outputs": [],
   "source": [
    "# Define transformations\n",
    "transform = transforms.Compose([\n",
    "    transforms.Resize((224, 224)),  # Resize images to fit ResNet input size\n",
    "    transforms.ToTensor(),  # Convert PIL image to PyTorch tensor\n",
    "    transforms.Normalize(mean=[0.485, 0.456, 0.406], std=[0.229, 0.224, 0.225])  # Normalize to ImageNet mean and std\n",
    "])\n",
    "\n",
    "# Create a new column indicating whether each study includes at least one image where 'Cancer' is 1\n",
    "df['StudyHasCancer'] = df.groupby('StudyUID')['Cancer'].transform('max')\n",
    "\n",
    "# Get the unique studies and their cancer status\n",
    "unique_studies = df[['StudyUID', 'StudyHasCancer']].drop_duplicates()\n",
    "\n",
    "# Split the studies using stratified sampling based on the 'StudyHasCancer' column\n",
    "train_studies, test_studies = train_test_split(unique_studies, test_size=0.2, stratify=unique_studies['StudyHasCancer'], random_state=42)\n",
    "\n",
    "# Get the training and test data\n",
    "train_data = df[df['StudyUID'].isin(train_studies['StudyUID'])]\n",
    "test_data = df[df['StudyUID'].isin(test_studies['StudyUID'])]\n",
    "\n",
    "# Create datasets\n",
    "train_dataset = BreastScanDataset(train_data, dataset_path, transform)\n",
    "test_dataset = BreastScanDataset(test_data, dataset_path, transform)\n",
    "\n",
    "unique_labels = [train_dataset.get_label(i) for i in np.sort(np.unique(y_true))]\n",
    "\n",
    "# Create data loaders\n",
    "batch_size = 64\n",
    "train_loader = DataLoader(train_dataset, batch_size=batch_size, shuffle=True)\n",
    "test_loader = DataLoader(test_dataset, batch_size=batch_size, shuffle=False)"
   ]
  },
  {
   "cell_type": "code",
   "execution_count": 57,
   "metadata": {},
   "outputs": [
    {
     "data": {
      "text/plain": [
       "0    180\n",
       "1     15\n",
       "Name: StudyHasCancer, dtype: int64"
      ]
     },
     "execution_count": 57,
     "metadata": {},
     "output_type": "execute_result"
    }
   ],
   "source": [
    "train_studies[\"StudyHasCancer\"].value_counts()"
   ]
  },
  {
   "cell_type": "code",
   "execution_count": 61,
   "metadata": {},
   "outputs": [],
   "source": [
    "# Define the function to load the pre-trained model and modify the final layer\n",
    "def load_model(num_classes):\n",
    "    # Load the pretrained model\n",
    "    model = models.resnet50(pretrained=True)\n",
    "    \n",
    "    # Freeze model parameters\n",
    "    for param in model.parameters():\n",
    "        param.requires_grad = False\n",
    "    \n",
    "    # Get the input of the fc layer\n",
    "    num_ftrs = model.fc.in_features\n",
    "    \n",
    "    # Re-define the fc layer / classifier\n",
    "    model.fc = nn.Linear(num_ftrs, num_classes)\n",
    "    \n",
    "    return model\n",
    "\n",
    "# Define the function to get the loss function and the optimizer\n",
    "def get_loss_optimizer(model, learning_rate):\n",
    "    # Define the loss function\n",
    "    criterion = nn.CrossEntropyLoss()\n",
    "    \n",
    "    # Define the optimizer\n",
    "    optimizer = torch.optim.Adam(model.fc.parameters(), lr=learning_rate)\n",
    "    \n",
    "    return criterion, optimizer\n",
    "\n",
    "def train_model_cv(model, criterion, optimizer, dataset, train_loader, device, num_epochs, n_splits):\n",
    "    model.to(device)\n",
    "    \n",
    "    # Initialize the KFold class\n",
    "    kfold = KFold(n_splits=n_splits, shuffle=True)\n",
    "\n",
    "    # Initialize lists to store the loss values\n",
    "    train_losses = []\n",
    "    val_losses = []\n",
    "    epochs = []\n",
    "\n",
    "    # Start the k-fold cross-validation\n",
    "    for fold, (train_ids, val_ids) in enumerate(kfold.split(dataset)):\n",
    "        # Print\n",
    "        print(f'FOLD {fold}')\n",
    "        print('--------------------------------')\n",
    "\n",
    "        # Define the data loaders for training and validation\n",
    "        train_subsampler = torch.utils.data.SubsetRandomSampler(train_ids)\n",
    "        val_subsampler = torch.utils.data.SubsetRandomSampler(val_ids)\n",
    "        train_loader = torch.utils.data.DataLoader(dataset, batch_size=32, sampler=train_subsampler)\n",
    "        val_loader = torch.utils.data.DataLoader(dataset, batch_size=32, sampler=val_subsampler)\n",
    "\n",
    "        # Train the model\n",
    "        model.train()\n",
    "        for epoch in range(num_epochs):\n",
    "            running_loss = 0.0\n",
    "            for inputs, labels in tqdm(train_loader, desc=f\"Epoch {epoch+1}/{num_epochs}, Training\"):\n",
    "                inputs = inputs.to(device)\n",
    "                labels = labels.to(device)\n",
    "\n",
    "                # Forward pass\n",
    "                outputs = model(inputs)\n",
    "                loss = criterion(outputs, labels)\n",
    "\n",
    "                # Backward pass and optimize\n",
    "                optimizer.zero_grad()\n",
    "                loss.backward()\n",
    "                optimizer.step()\n",
    "\n",
    "                running_loss += loss.item() * inputs.size(0)\n",
    "\n",
    "            epoch_loss = running_loss / len(train_loader.dataset)\n",
    "            print(f'Train Loss: {epoch_loss:.4f}')\n",
    "            train_losses.append(epoch_loss)\n",
    "            epochs.append(epoch)\n",
    "\n",
    "            # Validation\n",
    "            model.eval()\n",
    "            running_loss = 0.0\n",
    "            all_preds = []\n",
    "            all_labels = []\n",
    "            with torch.no_grad():\n",
    "                for inputs, labels in tqdm(val_loader, desc=f\"Epoch {epoch+1}/{num_epochs}, Validation\"):\n",
    "                    inputs = inputs.to(device)\n",
    "                    labels = labels.to(device)\n",
    "\n",
    "                    outputs = model(inputs)\n",
    "                    _, preds = torch.max(outputs, 1)\n",
    "                    loss = criterion(outputs, labels)\n",
    "\n",
    "                    running_loss += loss.item() * inputs.size(0)\n",
    "                    all_preds.extend(preds.cpu().numpy())\n",
    "                    all_labels.extend(labels.cpu().numpy())\n",
    "\n",
    "            epoch_loss = running_loss / len(val_loader.dataset)\n",
    "            print(f'Validation Loss: {epoch_loss:.4f}')\n",
    "            val_losses.append(epoch_loss)\n",
    "\n",
    "    # Create a DataFrame from the lists\n",
    "    loss_df = pd.DataFrame({\n",
    "        'Epoch': epochs,\n",
    "        'Training Loss': train_losses,\n",
    "        'Validation Loss': val_losses\n",
    "    })\n",
    "\n",
    "    # Plot the training and validation loss\n",
    "    sns.lineplot(data=loss_df, x='Epoch', y='Training Loss')\n",
    "    sns.lineplot(data=loss_df, x='Epoch', y='Validation Loss')\n",
    "    plt.show()\n",
    "\n",
    "\n",
    "# Cell 5: Define the function to evaluate the model\n",
    "def evaluate_model(model, test_loader, device, unique_labels):\n",
    "    print(\"Evaluating Model\")\n",
    "    # Evaluate the model\n",
    "    model.eval()  # Set the model to evaluation mode\n",
    "    all_preds = []\n",
    "    all_labels = []\n",
    "    all_probs = []\n",
    "    with torch.no_grad():\n",
    "        for images, labels in test_loader:\n",
    "            images = images.to(device)\n",
    "            labels = labels.to(device)\n",
    "            outputs = model(images)\n",
    "            _, predicted = torch.max(outputs.data, 1)\n",
    "            probs = torch.nn.functional.softmax(outputs, dim=1)[:, 1]  # Get the predicted probabilities for the positive class\n",
    "            all_preds.extend(predicted.cpu().numpy())\n",
    "            all_labels.extend(labels.cpu().numpy())\n",
    "            all_probs.extend(probs.cpu().numpy())\n",
    "\n",
    "    print(\"All Labels:\\n\",all_labels)\n",
    "    print(\"All Preds:\\n\",all_preds)\n",
    "    print(\"All Probs:\\n\",all_probs)\n",
    "\n",
    "    # Calculate metrics\n",
    "    accuracy = accuracy_score(all_labels, all_preds)\n",
    "    precision = precision_score(all_labels, all_preds, average='macro')\n",
    "    recall = recall_score(all_labels, all_preds, average='macro')\n",
    "    f1 = f1_score(all_labels, all_preds, average='macro')\n",
    "    roc_auc = 0#roc_auc_score(all_labels, all_probs, average='macro', multi_class='ovo')\n",
    "\n",
    "    print(f\"Accuracy: {accuracy:.2f}\\nPrecision: {precision:.2f}\\nRecall: {recall:.2f}\\nF1: {f1:.2f}\\nAUC: {roc_auc:.2f}\")\n",
    "\n",
    "    # Plot confusion matrix\n",
    "    plot_confusion_matrix(all_labels,all_preds,\"Hey\", unique_labels)\n",
    "    # cm = confusion_matrix(all_labels, all_preds)\n",
    "    # sns.heatmap(cm, annot=True)\n",
    "    # plt.show()\n",
    "\n",
    "def plot_confusion_matrix(y_true, y_pred, task, unique_labels):\n",
    "    \n",
    "     \n",
    "    plt.figure(figsize=(9,7),dpi=150)\n",
    "    conf_mat = pd.DataFrame(confusion_matrix(y_true, y_pred), index=unique_labels, columns=unique_labels)\n",
    "    print('\\nConfusion Matrix:\\n')\n",
    "    print(conf_mat)\n",
    "    sns.heatmap(conf_mat, annot=True, fmt='g', cmap='Blues', linewidth=.5, square=True)\n",
    "    plt.ylabel('True Labels')\n",
    "    plt.xlabel('Predicted Labels')\n",
    "    plt.title(\"Confusion Matrix\")\n",
    "    plt.show()\n",
    "    # plt.savefig('fig/confusion_matrix_'+task+'.png')"
   ]
  },
  {
   "cell_type": "code",
   "execution_count": 59,
   "metadata": {},
   "outputs": [
    {
     "name": "stderr",
     "output_type": "stream",
     "text": [
      "/home/md311/.local/lib/python3.8/site-packages/torchvision/models/_utils.py:208: UserWarning: The parameter 'pretrained' is deprecated since 0.13 and may be removed in the future, please use 'weights' instead.\n",
      "  warnings.warn(\n",
      "/home/md311/.local/lib/python3.8/site-packages/torchvision/models/_utils.py:223: UserWarning: Arguments other than a weight enum or `None` for 'weights' are deprecated since 0.13 and may be removed in the future. The current behavior is equivalent to passing `weights=ResNet50_Weights.IMAGENET1K_V1`. You can also use `weights=ResNet50_Weights.DEFAULT` to get the most up-to-date weights.\n",
      "  warnings.warn(msg)\n"
     ]
    },
    {
     "name": "stdout",
     "output_type": "stream",
     "text": [
      "FOLD 0\n",
      "--------------------------------\n"
     ]
    },
    {
     "name": "stderr",
     "output_type": "stream",
     "text": [
      "Epoch 1/1, Training: 100%|███████████████████████████████████████████████████| 11/11 [00:36<00:00,  3.32s/it]\n"
     ]
    },
    {
     "name": "stdout",
     "output_type": "stream",
     "text": [
      "Train Loss: 0.5432\n"
     ]
    },
    {
     "name": "stderr",
     "output_type": "stream",
     "text": [
      "Epoch 1/1, Validation: 100%|█████████████████████████████████████████████████| 12/12 [00:36<00:00,  3.05s/it]\n"
     ]
    },
    {
     "name": "stdout",
     "output_type": "stream",
     "text": [
      "Validation Loss: 0.5390\n",
      "FOLD 1\n",
      "--------------------------------\n"
     ]
    },
    {
     "name": "stderr",
     "output_type": "stream",
     "text": [
      "Epoch 1/1, Training: 100%|███████████████████████████████████████████████████| 12/12 [00:36<00:00,  3.05s/it]\n"
     ]
    },
    {
     "name": "stdout",
     "output_type": "stream",
     "text": [
      "Train Loss: 0.5025\n"
     ]
    },
    {
     "name": "stderr",
     "output_type": "stream",
     "text": [
      "Epoch 1/1, Validation: 100%|█████████████████████████████████████████████████| 11/11 [00:36<00:00,  3.32s/it]"
     ]
    },
    {
     "name": "stdout",
     "output_type": "stream",
     "text": [
      "Validation Loss: 0.4877\n"
     ]
    },
    {
     "name": "stderr",
     "output_type": "stream",
     "text": [
      "\n"
     ]
    },
    {
     "data": {
      "image/png": "[encoded data removed]",
      "text/plain": [
       "<Figure size 432x288 with 1 Axes>"
      ]
     },
     "metadata": {
      "needs_background": "light"
     },
     "output_type": "display_data"
    }
   ],
   "source": [
    "num_classes = 4  \n",
    "learning_rate = 0.001 \n",
    "num_epochs = 1\n",
    "device = torch.device('cuda' if torch.cuda.is_available() else 'cpu')  # Use GPU if available, otherwise use CPU\n",
    "n_splits = 2\n",
    "\n",
    "model = load_model(num_classes)\n",
    "criterion, optimizer = get_loss_optimizer(model, learning_rate)\n",
    "train_model_cv(model, criterion, optimizer, train_dataset, train_loader, device, num_epochs, n_splits) "
   ]
  },
  {
   "cell_type": "code",
   "execution_count": 62,
   "metadata": {},
   "outputs": [
    {
     "name": "stdout",
     "output_type": "stream",
     "text": [
      "Evaluating Model\n",
      "All Labels:\n",
      " [1, 1, 1, 1, 0, 0, 0, 0, 0, 0, 0, 0, 0, 0, 0, 0, 0, 0, 0, 0, 3, 3, 3, 3, 3, 3, 0, 0, 0, 0, 0, 0, 0, 0, 0, 0, 0, 0, 1, 1, 1, 1, 0, 0, 0, 0, 0, 0, 0, 0, 3, 3, 3, 3, 3, 3, 0, 0, 0, 0, 1, 1, 1, 1, 0, 0, 0, 0, 1, 1, 1, 1, 0, 0, 0, 0, 1, 1, 1, 1, 0, 0, 0, 0, 0, 0, 0, 0, 0, 0, 0, 0, 1, 1, 1, 1, 0, 0, 0, 0, 0, 0, 0, 0, 0, 0, 0, 0, 1, 1, 1, 1, 0, 0, 0, 0, 1, 1, 1, 1, 0, 0, 0, 0, 1, 1, 1, 1, 0, 0, 0, 0, 0, 0, 0, 0, 0, 0, 0, 0, 0, 0, 0, 0, 0, 0, 0, 0, 0, 0, 0, 0, 0, 0, 0, 0, 0, 0, 0, 0, 3, 3, 0, 0, 0, 0, 0, 0, 0, 0, 2, 2, 0, 0, 0, 0, 0, 0, 0, 0, 3, 3, 2, 2, 0, 0, 0, 0, 0, 0, 0, 0]\n",
      "All Preds:\n",
      " [0, 0, 0, 0, 0, 0, 0, 0, 0, 0, 0, 0, 0, 0, 0, 0, 0, 0, 0, 0, 0, 0, 0, 0, 0, 0, 0, 0, 0, 0, 0, 0, 0, 0, 0, 0, 0, 0, 0, 0, 0, 0, 0, 0, 0, 0, 0, 0, 0, 0, 0, 0, 0, 0, 0, 0, 0, 0, 0, 0, 0, 0, 0, 0, 0, 0, 0, 0, 0, 0, 0, 0, 0, 0, 0, 0, 0, 0, 0, 0, 0, 0, 0, 0, 0, 0, 0, 0, 0, 0, 0, 0, 0, 0, 0, 0, 0, 0, 0, 0, 0, 0, 0, 0, 0, 0, 0, 0, 0, 0, 0, 0, 0, 0, 0, 0, 0, 0, 0, 0, 0, 0, 0, 0, 0, 0, 0, 0, 0, 0, 0, 0, 0, 0, 0, 0, 0, 0, 0, 0, 0, 0, 0, 0, 0, 0, 0, 0, 0, 0, 0, 0, 0, 0, 0, 0, 0, 0, 0, 0, 0, 0, 0, 0, 0, 0, 0, 0, 0, 0, 0, 0, 0, 0, 0, 0, 0, 0, 0, 0, 0, 0, 0, 0, 0, 0, 0, 0, 0, 0, 0, 0]\n",
      "All Probs:\n",
      " [0.25965902, 0.261243, 0.2484389, 0.21843068, 0.32887986, 0.29564643, 0.27531347, 0.293294, 0.33792192, 0.336274, 0.3461114, 0.2831052, 0.31969592, 0.28852785, 0.31270382, 0.26714307, 0.3502309, 0.30089152, 0.31223336, 0.22622958, 0.37648848, 0.37389565, 0.38097793, 0.32680887, 0.2675461, 0.32682076, 0.27272794, 0.25217175, 0.28888446, 0.23856933, 0.30057216, 0.31767496, 0.29614577, 0.316455, 0.3361315, 0.31418598, 0.34213746, 0.2860937, 0.29815665, 0.28357512, 0.3171347, 0.29013783, 0.2670358, 0.3107458, 0.26185206, 0.28854635, 0.32411838, 0.25564405, 0.3063834, 0.27618968, 0.33021078, 0.37159014, 0.3513528, 0.3463335, 0.24025534, 0.26063946, 0.32722014, 0.23031777, 0.26315627, 0.26943037, 0.2461989, 0.28793487, 0.25651124, 0.27417067, 0.28843394, 0.29904932, 0.33363485, 0.32519662, 0.3157653, 0.2622412, 0.32051274, 0.27112183, 0.30601993, 0.31181514, 0.35196263, 0.32033128, 0.24462157, 0.22765203, 0.33418345, 0.2297182, 0.25631088, 0.18839695, 0.252989, 0.25226238, 0.25570557, 0.29177636, 0.24708125, 0.20103888, 0.27633414, 0.29214168, 0.30822024, 0.28689963, 0.2680924, 0.23621526, 0.27605262, 0.22206642, 0.32812423, 0.29669723, 0.31632948, 0.23836115, 0.3087998, 0.29569343, 0.29912814, 0.31712103, 0.32126215, 0.27770773, 0.3125899, 0.26829812, 0.307774, 0.27656075, 0.32124683, 0.28621268, 0.25262716, 0.26073813, 0.2759363, 0.24639289, 0.29992568, 0.33851787, 0.29266164, 0.29536897, 0.34211624, 0.31250262, 0.27317843, 0.30078167, 0.30746588, 0.26187, 0.27893567, 0.23603538, 0.2024287, 0.24979062, 0.29075003, 0.23947287, 0.30753112, 0.25841236, 0.26875758, 0.2521463, 0.25196365, 0.244378, 0.34908792, 0.24234386, 0.26574817, 0.3373877, 0.2350738, 0.38093814, 0.2790768, 0.30989596, 0.3121289, 0.30988905, 0.33757403, 0.30879733, 0.36802515, 0.28084394, 0.28390983, 0.2204801, 0.18570268, 0.21668099, 0.29773527, 0.24265537, 0.27331114, 0.3019043, 0.38644326, 0.29979435, 0.31121805, 0.29233012, 0.40041202, 0.24847193, 0.3168734, 0.24575794, 0.2927743, 0.22964968, 0.24690235, 0.2810982, 0.34218338, 0.35841826, 0.3967703, 0.26106262, 0.30655643, 0.24641553, 0.3375387, 0.24559896, 0.22546713, 0.21307328, 0.28146577, 0.24942687, 0.24926658, 0.23773232, 0.28618512, 0.260193, 0.2740097, 0.27932727, 0.33634573, 0.3080973]\n",
      "Accuracy: 0.71\n",
      "Precision: 0.18\n",
      "Recall: 0.25\n",
      "F1: 0.21\n",
      "AUC: 0.00\n",
      "\n",
      "Confusion Matrix:\n",
      "\n",
      "            Normal  Actionable  Benign  Cancer\n",
      "Normal         136           0       0       0\n",
      "Actionable      36           0       0       0\n",
      "Benign           4           0       0       0\n",
      "Cancer          16           0       0       0\n"
     ]
    },
    {
     "name": "stderr",
     "output_type": "stream",
     "text": [
      "/opt/conda/lib/python3.8/site-packages/sklearn/metrics/_classification.py:1248: UndefinedMetricWarning: Precision is ill-defined and being set to 0.0 in labels with no predicted samples. Use `zero_division` parameter to control this behavior.\n",
      "  _warn_prf(average, modifier, msg_start, len(result))\n"
     ]
    },
    {
     "data": {
      "image/png": "[encoded data removed]",
      "text/plain": [
       "<Figure size 1350x1050 with 2 Axes>"
      ]
     },
     "metadata": {
      "needs_background": "light"
     },
     "output_type": "display_data"
    }
   ],
   "source": [
    "evaluate_model(model, test_loader, device)  # Replace test_loader with your actual test data loader"
   ]
  }
 ],
 "metadata": {
  "kernelspec": {
   "display_name": "Python 3 (ipykernel)",
   "language": "python",
   "name": "python3"
  },
  "language_info": {
   "codemirror_mode": {
    "name": "ipython",
    "version": 3
   },
   "file_extension": ".py",
   "mimetype": "text/x-python",
   "name": "python",
   "nbconvert_exporter": "python",
   "pygments_lexer": "ipython3",
   "version": "3.8.13"
  },
  "orig_nbformat": 4
 },
 "nbformat": 4,
 "nbformat_minor": 2
}
